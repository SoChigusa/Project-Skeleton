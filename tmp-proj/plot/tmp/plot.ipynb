{
 "cells": [
  {
   "cell_type": "markdown",
   "metadata": {},
   "source": [
    "# Make a Plot"
   ]
  },
  {
   "cell_type": "code",
   "execution_count": null,
   "metadata": {},
   "outputs": [],
   "source": [
    "import numpy as np\n",
    "import matplotlib.pyplot as plt\n",
    "\n",
    "# figure settings\n",
    "fig = plt.figure()\n",
    "\n",
    "# arbitrary aspect ratio\n",
    "# fig = plt.figure(figsize=[4,2.25])\n",
    "\n",
    "# subfigure\n",
    "ax = fig.add_subplot(1,1,1)\n",
    "# ax2= fig.add_subplot(2,2,1)\n",
    "\n",
    "# data input\n",
    "# data = np.loadtxt('file name', usecols=range(3), delimiter='\\t', skiprows=1)\n",
    "# x = data[:,0]\n",
    "# y = data[:,1]\n",
    "# z = data[:,2]\n",
    "\n",
    "# line plot\n",
    "# ax.plot(x, y, color='r', linestyle='-', linewidth=2, label='hoge')\n",
    "\n",
    "# reshape 1D to 2D if necessary\n",
    "# x,y,z = x.reshape(ny,nx), y.reshape(ny,nx), z.reshape(ny,nx)\n",
    "\n",
    "# contour plot (line / area)\n",
    "# cs = ax.contour(x, y, z, levels=[z1, z2, z3], colors='b', linestyles='-')\n",
    "# ax.contourf(x, y, z, levels=[zmin,zmax], alpha=0.3, colors='gray')\n",
    "\n",
    "# contour legend\n",
    "# h,_   = cs.legend_elements()\n",
    "# ax.legend([h[0]], ['legend'], fontsize=20)\n",
    "\n",
    "# contour small label\n",
    "# ax.clabel(cs, fmt='%d')\n",
    "\n",
    "# histogram\n",
    "# ax.hist(x, bins=nbin, range=(xmin, xmax), color='m', ec='black', label='legend')\n",
    "\n",
    "# log plot\n",
    "# ax.set_xscale('log')\n",
    "# ax.set_yscale('log')\n",
    "\n",
    "# plot range\n",
    "ax.set_xlim(0, 1)\n",
    "ax.set_ylim(0, 1)\n",
    "\n",
    "# ticks setting\n",
    "# ax.set_xticks([0, 0.5, 1])\n",
    "# ax.set_yticks([0, 0.5, 1])\n",
    "ax.tick_params(labelsize=15)\n",
    "\n",
    "# figure captions\n",
    "ax.set_title('Empty Title', size=20)\n",
    "ax.set_xlabel('Empty x-label', size=15)\n",
    "ax.set_ylabel('Empty y-label', size=15)\n",
    "# ax.legend(fontsize=15, loc='best')\n",
    "\n",
    "plt.tight_layout()\n",
    "plt.savefig('../figure/tmp.pdf', bbox_inches='tight')"
   ]
  }
 ],
 "metadata": {
  "language_info": {
   "name": "python"
  }
 },
 "nbformat": 4,
 "nbformat_minor": 2
}
